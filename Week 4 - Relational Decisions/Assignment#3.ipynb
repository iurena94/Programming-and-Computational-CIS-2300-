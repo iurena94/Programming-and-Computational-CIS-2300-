{
 "cells": [
  {
   "cell_type": "code",
   "execution_count": 101,
   "id": "581a9f12",
   "metadata": {},
   "outputs": [
    {
     "name": "stdout",
     "output_type": "stream",
     "text": [
      "A\n"
     ]
    }
   ],
   "source": [
    "score = 93\n",
    "if score >= 90:\n",
    "    grade = \"A\"\n",
    "elif score >= 80: #changed from 'if' to 'elif'\n",
    "    grade = \"B\"\n",
    "elif score >= 70: #changed from 'if' to 'elif'\n",
    "    grade = \"C\"\n",
    "elif score >= 60: #changed from 'if' to 'elif'\n",
    "    grade = \"D\"\n",
    "if score < 60:\n",
    "   grade = \"E\" #a space is missing from the snippet and isn't altering outcome \n",
    "print(grade)\n"
   ]
  },
  {
   "cell_type": "code",
   "execution_count": 99,
   "id": "2966a436",
   "metadata": {},
   "outputs": [
    {
     "name": "stdout",
     "output_type": "stream",
     "text": [
      "Enter your income here: 505000\n",
      "Your total tax owed is $25,100.00\n"
     ]
    }
   ],
   "source": [
    "income = float(input('Enter your income here: '))\n",
    "if income < 100000:\n",
    "    totaltax = income*0.01\n",
    "elif income < 500000:\n",
    "    totaltax = income*0.05\n",
    "elif income > 500000:\n",
    "    totaltax = 25000+((income-500000)*0.02)\n",
    "print(\"Your total tax owed is \" + \"${:,.2f}\".format(totaltax))\n"
   ]
  },
  {
   "cell_type": "code",
   "execution_count": 74,
   "id": "9f25fc43",
   "metadata": {},
   "outputs": [
    {
     "name": "stdout",
     "output_type": "stream",
     "text": [
      "The number is 5\n"
     ]
    }
   ],
   "source": [
    "x = 5\n",
    "if x == 5: #changed from '=' to '=='\n",
    "    print(\"The number is 5\") #indented\n",
    "elif x != 5: #changed 'if' to 'elif'\n",
    "    print(\"The number is NOT 5\") #indented\n"
   ]
  },
  {
   "cell_type": "code",
   "execution_count": 71,
   "id": "21c9d34a",
   "metadata": {},
   "outputs": [
    {
     "name": "stdout",
     "output_type": "stream",
     "text": [
      "How many miles did you travel?: 15\n",
      "Your cab ride will be $22.50\n"
     ]
    }
   ],
   "source": [
    "#Cab ride cost\n",
    "dist = float(input(\"How many miles did you travel?: \"))\n",
    "if dist <= 12:\n",
    "    cost = dist*2\n",
    "elif dist > 12:\n",
    "    cost = dist*1.5\n",
    "print(\"Your cab ride will be \" + \"${:,.2f}\".format(cost))\n"
   ]
  },
  {
   "cell_type": "code",
   "execution_count": 86,
   "id": "dda02c63",
   "metadata": {},
   "outputs": [
    {
     "name": "stdout",
     "output_type": "stream",
     "text": [
      "Please enter age here: 64\n",
      "Your ticket will be $40\n"
     ]
    }
   ],
   "source": [
    "#Amusement park ticket price\n",
    "age = int(input(\"Please enter age here: \"))\n",
    "if age < 11: #child ticket\n",
    "    cost = \"$20\"\n",
    "elif age < 65: #adult ticket\n",
    "    cost = \"$40\"\n",
    "else: #senior ticket\n",
    "    cost = \"$30\"\n",
    "print(\"Your ticket will be \" + cost)"
   ]
  },
  {
   "cell_type": "code",
   "execution_count": 93,
   "id": "bf925d1d",
   "metadata": {},
   "outputs": [
    {
     "name": "stdout",
     "output_type": "stream",
     "text": [
      "Enter the number of pennies:50\n",
      "Enter the number of quartes:2\n",
      "Enter the number of nickels:0\n",
      "Enter the number of dimes:0\n",
      "\n",
      "Total amount entered: $1.00\n",
      "You have exactly one dollar.\n"
     ]
    }
   ],
   "source": [
    "pennies = float(input('Enter the number of pennies:'))\n",
    "quarters = float(input('Enter the number of quartes:'))\n",
    "nickels = float(input('Enter the number of nickels:'))\n",
    "dimes = float(input('Enter the number of dimes:'))\n",
    "\n",
    "dimes_total = dimes * 0.10\n",
    "quarters_total = quarters * 0.25\n",
    "pennies_total = pennies * 0.01\n",
    "nickels_total = nickels * 0.05\n",
    "total_amount = pennies_total + nickels_total + dimes_total + quarters_total\n",
    "\n",
    "print('\\nTotal amount entered: $', format(total_amount, '.2f'), sep='')\n",
    "\n",
    "if total_amount == 1:\n",
    "    print('You have exactly one dollar.')\n",
    "elif total_amount > 1:\n",
    "    print('The amount entered is more than one dollar.')\n",
    "else:\n",
    "    print('The amount entered is less than one dollar.')"
   ]
  }
 ],
 "metadata": {
  "kernelspec": {
   "display_name": "Python 3 (ipykernel)",
   "language": "python",
   "name": "python3"
  },
  "language_info": {
   "codemirror_mode": {
    "name": "ipython",
    "version": 3
   },
   "file_extension": ".py",
   "mimetype": "text/x-python",
   "name": "python",
   "nbconvert_exporter": "python",
   "pygments_lexer": "ipython3",
   "version": "3.10.2"
  }
 },
 "nbformat": 4,
 "nbformat_minor": 5
}
