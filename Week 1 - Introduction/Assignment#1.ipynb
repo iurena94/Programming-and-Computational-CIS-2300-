{
 "cells": [
  {
   "cell_type": "code",
   "execution_count": null,
   "id": "cf3b630e",
   "metadata": {
    "scrolled": true
   },
   "outputs": [],
   "source": [
    "print(\"Fill out these questions for us to better know you!\\n\")\n",
    "name = input(\"What's your name?  \")\n",
    "print(\"\\nHello \"+ name+\", it's nice to meet you!\")\n",
    "age = input(\"\\nHow old are you in years?  \")\n",
    "print(\"\\nYou are \"+age+\" years old.\")\n",
    "hobby = input(\"\\nWhat hobby do you enjoy?  \")\n",
    "print('\\nYou have selected \"' +hobby+'\" as the hobby you enjoy.')\n",
    "print(\"\\nThank you \"+name+\" for telling us about yourself!\")"
   ]
  }
 ],
 "metadata": {
  "kernelspec": {
   "display_name": "Python 3 (ipykernel)",
   "language": "python",
   "name": "python3"
  },
  "language_info": {
   "codemirror_mode": {
    "name": "ipython",
    "version": 3
   },
   "file_extension": ".py",
   "mimetype": "text/x-python",
   "name": "python",
   "nbconvert_exporter": "python",
   "pygments_lexer": "ipython3",
   "version": "3.10.2"
  }
 },
 "nbformat": 4,
 "nbformat_minor": 5
}
