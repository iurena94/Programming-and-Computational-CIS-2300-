{
 "cells": [
  {
   "cell_type": "code",
   "execution_count": null,
   "id": "7da19d58",
   "metadata": {
    "scrolled": true
   },
   "outputs": [],
   "source": [
    "#Prices and quantities of three unnamed items\n",
    "\n",
    "pA = float(input(\"Enter the Price of your first item: $\"))\n",
    "nA = int(input(\"How many of this item are you purchasing: \"))\n",
    "#item A\n",
    "\n",
    "pB = float(input(\"Enter the Price of your second item: $\"))\n",
    "nB = int(input(\"How many of this item are you purchasing: \"))\n",
    "#item B\n",
    "\n",
    "pC = float(input(\"Enter the Price of your third item: $\"))\n",
    "nC = int(input(\"How many of this item are you purchasing: \"))\n",
    "#item C\n",
    "\n",
    "tax = float(input(\"\\n\"\"What is the sales tax rate at your location?(% notation): \"))\n",
    "#enter in percentage notation NOT decimal\n",
    "                  \n",
    "#calulations\n",
    "subtotal = (pA*nA)+(pB*nB)+(pC*nC)\n",
    "salestax = float(subtotal)*(tax/100)\n",
    "ordertotal = subtotal + salestax\n",
    "\n",
    "#result\n",
    "print(\"\\n\"\"Your sub-total will be: \" + \"${:,.2f}\".format(subtotal))\n",
    "print(\"You'll have a sales tax of: \" + \"${:,.2f}\".format(salestax))\n",
    "print(\"Your total amount will be: \" + \"${:,.2f}\".format(ordertotal))"
   ]
  },
  {
   "cell_type": "code",
   "execution_count": null,
   "id": "c0c35687",
   "metadata": {
    "scrolled": false
   },
   "outputs": [],
   "source": [
    "#calulating MPG with given miles and gallons of gas\n",
    "miles = float(input(\"How many miles have you driven?: \"))\n",
    "gas = float(input(\"How many gallons of gas was used?: \"))\n",
    "mpg = miles/gas\n",
    "\n",
    "print(\"Your car's MPG is \" + format(mpg,\".2f\") + \" miles\")\n"
   ]
  },
  {
   "cell_type": "code",
   "execution_count": null,
   "id": "bcc1704a",
   "metadata": {},
   "outputs": [],
   "source": [
    "#Finding the present investment amount\n",
    "FV = float(input(\"Please enter your desired Future Value: $\"))\n",
    "r = float(input(\"Please enter the interest rate (% notation): \"))\n",
    "#interest rate taken in percent notation NOT decimal\n",
    "n = int(input(\"Please enter the desired timeframe in years: \"))\n",
    "\n",
    "#calculating PV\n",
    "PV = FV * (1/((1+(r/100))**n))\n",
    "#converting interest rate into decimal \n",
    "\n",
    "#results\n",
    "print(\"You'll need to invest \" + \"${:,.2f}\".format(PV), \"today.\")"
   ]
  },
  {
   "cell_type": "code",
   "execution_count": null,
   "id": "675107a1",
   "metadata": {},
   "outputs": [],
   "source": [
    "#Calculating monthly loan payment\n",
    "P = float(input(\"What is the desired Loan Amount?: $\"))\n",
    "APR = float(input(\"What is the Annual Percentage Rate?(% notation): \"))\n",
    "#enter in percentage notation NOT decimal\n",
    "n = int(input(\"Please enter the number of loan terms in months: \"))\n",
    "\n",
    "#calculating\n",
    "r = (APR/100)/12  \n",
    "A = P*((r*(1+r)**n)/(((1+r)**n)-1))  #monthly payment formula\n",
    "\n",
    "#result\n",
    "print(\"Your monthly payment will be \"+ \"${:,.2f}\".format(A))\n"
   ]
  },
  {
   "cell_type": "code",
   "execution_count": null,
   "id": "79f63240",
   "metadata": {},
   "outputs": [],
   "source": [
    "#Total Amount of a meal\n",
    "name = input(\"What is your name?: \")\n",
    "meal = float(input(\"How much did the meal cost?: $\"))\n",
    "tip = float(input(\"Please enter the tip percentage(%): \"))\n",
    "#enter in percentage notation NOT decimal\n",
    "stax = 0.07\n",
    "\n",
    "#calculation\n",
    "fntip = (tip/100)*meal\n",
    "fntax = stax*meal\n",
    "fta = meal+fntax+fntip\n",
    "\n",
    "#results\n",
    "print(\"\\n\"f\"Your name is {name}\")\n",
    "print(\"Your meal was\",\"${:,.2f}\".format(meal))\n",
    "print(\"The tip will be\",\"${:,.2f}\".format(fntip))\n",
    "print(\"The sales tax will be\",\"${:,.2f}\".format(fntax))\n",
    "print(f\"Thank you for dining with us {name}!\")"
   ]
  }
 ],
 "metadata": {
  "kernelspec": {
   "display_name": "Python 3 (ipykernel)",
   "language": "python",
   "name": "python3"
  },
  "language_info": {
   "codemirror_mode": {
    "name": "ipython",
    "version": 3
   },
   "file_extension": ".py",
   "mimetype": "text/x-python",
   "name": "python",
   "nbconvert_exporter": "python",
   "pygments_lexer": "ipython3",
   "version": "3.10.2"
  }
 },
 "nbformat": 4,
 "nbformat_minor": 5
}
