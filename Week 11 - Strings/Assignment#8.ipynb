{
 "cells": [
  {
   "cell_type": "code",
   "execution_count": 26,
   "id": "e1d4f527",
   "metadata": {
    "scrolled": true
   },
   "outputs": [
    {
     "name": "stdout",
     "output_type": "stream",
     "text": [
      "- - - - - Email tester - - - - -  \n",
      "Enter your Email Address here: .i@gmail.com\n",
      "This is not a valid E-mail Address\n"
     ]
    }
   ],
   "source": [
    "#Question 1 - E-mail Tester\n",
    "#defining email testing function\n",
    "def validateEmail(emailAddr):\n",
    "    #variables\n",
    "    valcnt = 0 #counting conditions passed\n",
    "    atcnt = 0 #number of @s\n",
    "    period = 0 #number of periods\n",
    "    #testing email length\n",
    "    if len(emailAddr) >= 5:\n",
    "        valcnt += 1\n",
    "    #Checking for symbols are the start and end\n",
    "    if emailAddr[0] == '#' or emailAddr[0] == '.' or emailAddr[0] == '@' or emailAddr[-1] == '#' or emailAddr[-1] == '.' or emailAddr[-1] == '@':\n",
    "        return print('This is not a valid E-mail Address')\n",
    "    #tracking number of '@' and '.'\n",
    "    for i in emailAddr:\n",
    "        if i == '@':\n",
    "            atcnt += 1\n",
    "        if i == '.':\n",
    "            period += 1\n",
    "    #Checking for one '@' and one or more periods\n",
    "    if period >= 1 and atcnt == 1:\n",
    "        valcnt += 1\n",
    "    #final decision\n",
    "    if valcnt == 2: # passes all checks\n",
    "        return print('This is a valid E-mail Address')\n",
    "    else: #falsed atleast one check\n",
    "        return print('This is not a valid E-mail Address')\n",
    "    \n",
    "def main():\n",
    "    emailAddr = input(\"- - - - - Email tester - - - - -  \\nEnter your Email Address here: \")\n",
    "    validateEmail(emailAddr)\n",
    "    \n",
    "main()"
   ]
  },
  {
   "cell_type": "code",
   "execution_count": 36,
   "id": "ef1686e1",
   "metadata": {
    "scrolled": false
   },
   "outputs": [
    {
     "name": "stdout",
     "output_type": "stream",
     "text": [
      "Enter your first name here: Isaias\n",
      "Enter your last name here: Urena\n",
      "Enter your zipcode here: 12345\n",
      "Generated login: IAAUEA135\n"
     ]
    }
   ],
   "source": [
    "#Question 2 - Login\n",
    "#define Login generator function\n",
    "def generateLogin(first, last, zipc):\n",
    "    login = first.upper()[0::2] + last.upper()[0::2] + zipc[0::2]\n",
    "    return print('Generated login:',login)\n",
    "\n",
    "#main function with inputs\n",
    "def main():\n",
    "    first = input('Enter your first name here: ')\n",
    "    last = input('Enter your last name here: ')\n",
    "    zipc = input('Enter your zipcode here: ')\n",
    "    generateLogin(first, last, zipc)\n",
    "    \n",
    "#calling main function\n",
    "main()"
   ]
  },
  {
   "cell_type": "code",
   "execution_count": 51,
   "id": "1d4a6656",
   "metadata": {
    "scrolled": true
   },
   "outputs": [
    {
     "name": "stdout",
     "output_type": "stream",
     "text": [
      "Enter a date in mm/dd/yyyy form: 12/25/2022\n",
      "December 25, 2022\n"
     ]
    }
   ],
   "source": [
    "#Question 3 - Date\n",
    "#long date function\n",
    "def longDate(strDate):\n",
    "    \n",
    "    #finding position of the slash after the month\n",
    "    slash = strDate.find('/')\n",
    "    #getting the month\n",
    "    month = strDate[:slash]\n",
    "    #removing the month from the main string\n",
    "    dayr = strDate[slash+1:]\n",
    "    #finding position of the remaining slash\n",
    "    slash2 = dayr.find('/')\n",
    "    #getting Day\n",
    "    day = dayr[:slash2]\n",
    "    #getting Year\n",
    "    year = dayr[slash2+1:]\n",
    "    \n",
    "    #assigning month name\n",
    "    if month == '1' or month == '01':\n",
    "        monthStr = 'January'\n",
    "    elif month == '2' or month == '02':\n",
    "        monthStr = 'February'\n",
    "    elif month == '3' or month == '03':\n",
    "        monthStr = 'March'\n",
    "    elif month == '4' or month == '04':\n",
    "        monthStr = 'April'\n",
    "    elif month == '5' or month == '05':\n",
    "        monthStr = 'May'\n",
    "    elif month == '6' or month == '06':\n",
    "        monthStr = 'June'\n",
    "    elif month == '7' or month == '07':\n",
    "        monthStr = 'July'\n",
    "    elif month == '8' or month == '08':\n",
    "        monthStr = 'August'\n",
    "    elif month == '9' or month == '09':\n",
    "        monthStr = 'September'\n",
    "    elif month == '10':\n",
    "        monthStr = 'October'\n",
    "    elif month == '11':\n",
    "        monthStr = 'November'\n",
    "    elif month == '12':\n",
    "        monthStr = 'December'\n",
    "    #return date\n",
    "    return print(f'{monthStr} {day}, {year}')\n",
    "\n",
    "#defining main function to get strDate    \n",
    "def main():\n",
    "    strDate = input(\"Enter a date in mm/dd/yyyy form: \")\n",
    "    longDate(strDate)\n",
    "    \n",
    "#calling main function\n",
    "main()"
   ]
  },
  {
   "cell_type": "code",
   "execution_count": 80,
   "id": "966d58a1",
   "metadata": {},
   "outputs": [
    {
     "name": "stdout",
     "output_type": "stream",
     "text": [
      "English:\ti slept most of the night\n",
      "Pig Latin:\tIAY LEPTSAY OSTMAY FOAY HETAY IGHTNAY \n"
     ]
    }
   ],
   "source": [
    "#Question 4 - Pig Latin\n",
    "def getPigLatin(pigStr):\n",
    "    latin = \"\"\n",
    "    #Turn sentence into words\n",
    "    words = pigStr.split(' ')\n",
    "    #for every word in the list, move the first character to the end and add 'ay'\n",
    "    for i in words:\n",
    "        latin += i.upper()[1:]+i.upper()[0]+'AY ' \n",
    "    #return pig latin translation\n",
    "    return print(f'Pig Latin:\\t{latin}')\n",
    "\n",
    "#define main function to get pigStr\n",
    "def main():\n",
    "    pigStr = input('English:\\t')\n",
    "    getPigLatin(pigStr)\n",
    "    \n",
    "#call main function\n",
    "main()"
   ]
  }
 ],
 "metadata": {
  "kernelspec": {
   "display_name": "Python 3 (ipykernel)",
   "language": "python",
   "name": "python3"
  },
  "language_info": {
   "codemirror_mode": {
    "name": "ipython",
    "version": 3
   },
   "file_extension": ".py",
   "mimetype": "text/x-python",
   "name": "python",
   "nbconvert_exporter": "python",
   "pygments_lexer": "ipython3",
   "version": "3.10.2"
  }
 },
 "nbformat": 4,
 "nbformat_minor": 5
}
