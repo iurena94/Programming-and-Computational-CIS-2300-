{
 "cells": [
  {
   "cell_type": "code",
   "execution_count": 3,
   "id": "1166bf3a",
   "metadata": {},
   "outputs": [
    {
     "name": "stdout",
     "output_type": "stream",
     "text": [
      "{'Gold': 33, 'Silver': 17, 'Bronze': 12}\n"
     ]
    }
   ],
   "source": [
    "#Question 1 - USA's Olympic Medal Count\n",
    "\n",
    "medals = {'Gold':33, 'Silver':17, 'Bronze':12}\n",
    "print(medals)"
   ]
  },
  {
   "cell_type": "code",
   "execution_count": 2,
   "id": "1c5d5a35",
   "metadata": {},
   "outputs": [
    {
     "name": "stdout",
     "output_type": "stream",
     "text": [
      "Old Dictionary: {'Manuel': 4, 'Lochte': 12, 'Adrian': 7, 'Ledecky': 5, 'Dirado': 4, 'Phelps': 23}\n",
      "Updated Dictionary: {'Manuel': 4, 'Lochte': 12, 'Adrian': 7, 'Ledecky': 5, 'Dirado': 4, 'Phelps': 28}\n"
     ]
    }
   ],
   "source": [
    "#Question 2 - Updating Dictionary\n",
    "#creating dictionary\n",
    "swimmers = {'Manuel':4, 'Lochte':12, 'Adrian':7, 'Ledecky':5, 'Dirado':4, 'Phelps':23}\n",
    "print(f'Old Dictionary: {swimmers}')\n",
    "#updating 'Phelps' by adding 5\n",
    "swimmers['Phelps'] += 5\n",
    "print(f'Updated Dictionary: {swimmers}')"
   ]
  },
  {
   "cell_type": "code",
   "execution_count": 114,
   "id": "fa73fed4",
   "metadata": {},
   "outputs": [
    {
     "name": "stdout",
     "output_type": "stream",
     "text": [
      "{1: 10, 2: 20, 3: 30, 4: 40, 5: 50, 6: 60}\n"
     ]
    }
   ],
   "source": [
    "#Question 3 - Concatenate Dictionaries\n",
    "#given dictionaries\n",
    "d1 = {1:10, 2:20}\n",
    "d2 = {3:30, 4:40}\n",
    "d3 = {5:50, 6:60}\n",
    "#list of dictionaries\n",
    "lst = [d1, d2, d3]\n",
    "#creating new Dictionary\n",
    "d4 = {}\n",
    "#for every item in list\n",
    "for x in lst:\n",
    "    #for every key in the given dictionaries\n",
    "    for y in x:\n",
    "        d4[y] = x[y]\n",
    "\n",
    "print(d4)"
   ]
  },
  {
   "cell_type": "code",
   "execution_count": 115,
   "id": "6aa2ec21",
   "metadata": {},
   "outputs": [
    {
     "name": "stdout",
     "output_type": "stream",
     "text": [
      "{1: 30, 2: 20, 3: 90, 4: 40, 5: 50, 6: 60}\n"
     ]
    }
   ],
   "source": [
    "#Question 4 - Concatenate Repeating Dictionaries\n",
    "#Given dictionaries\n",
    "d1 = {1:10, 2:20}\n",
    "d2 = {1:20, 3:30, 4:40}\n",
    "d3 = {5:50, 6:60, 3:60}\n",
    "#list of dictionaries\n",
    "lst = [d1,d2,d3]\n",
    "#creating new dictionary\n",
    "d4 = {}\n",
    "#for every dictionary the in list\n",
    "for x in lst:\n",
    "    #for every key in the given dictionaries\n",
    "    for y in x:\n",
    "        #if the key exists in the new dictionary, add its value\n",
    "        if y in d4:\n",
    "            d4[y] += x[y]\n",
    "        #if the key doesn't exist, add the key with its value\n",
    "        if y not in d4:\n",
    "            d4[y] = x[y]\n",
    "#print new dictionary\n",
    "print(d4)"
   ]
  },
  {
   "cell_type": "code",
   "execution_count": 62,
   "id": "a1a47445",
   "metadata": {},
   "outputs": [
    {
     "name": "stdout",
     "output_type": "stream",
     "text": [
      "Enter a word here: understandable\n",
      "{'U': 1, 'N': 2, 'D': 2, 'E': 2, 'R': 1, 'S': 1, 'T': 1, 'A': 2, 'B': 1, 'L': 1}\n"
     ]
    }
   ],
   "source": [
    "#Question 5\n",
    "#defining main funtion\n",
    "def main():\n",
    "    #user inputs\n",
    "    word = input('Enter a word here: ')\n",
    "    countLetter(word)\n",
    "\n",
    "#defining countLetter function\n",
    "def countLetter(word):\n",
    "    #creating dictionary\n",
    "    lettercount = {}\n",
    "    \n",
    "    #for every character in the string\n",
    "    for x in word.upper():\n",
    "    #if the given character is in the dictionary, add 1 to value\n",
    "        if x in lettercount:\n",
    "            lettercount[x] += 1\n",
    "    #if the given character is a space, skip and continue the loop\n",
    "        elif x == \" \":\n",
    "            continue\n",
    "    #if the given character is not in the dictionary, create key with a value of 1\n",
    "        elif x not in lettercount:\n",
    "            lettercount[x] = 1 \n",
    "            \n",
    "    #returning the dictionary of letter count\n",
    "    return print(lettercount)\n",
    "#calling main function\n",
    "main()\n",
    "    "
   ]
  },
  {
   "cell_type": "code",
   "execution_count": 146,
   "id": "e7681834",
   "metadata": {
    "scrolled": false
   },
   "outputs": [
    {
     "name": "stdout",
     "output_type": "stream",
     "text": [
      "\n",
      "- - - - E-mail Organizer - - - -\n",
      "    [1]Look up an Email \n",
      "    [2]Add an Email\n",
      "    [3]Update an Email\n",
      "    [4]Delete an Email\n",
      "    [0]Exit\n",
      "Enter a corresponding number to continue: 1\n",
      "\n",
      "- - - Looking up E-mail - - -\n",
      "What is the person's name you're searching for?: isaias\n",
      "Isaias - email: isaias.urena@baruchmail.cuny.edu\n",
      "\n",
      "- - - - E-mail Organizer - - - -\n",
      "    [1]Look up an Email \n",
      "    [2]Add an Email\n",
      "    [3]Update an Email\n",
      "    [4]Delete an Email\n",
      "    [0]Exit\n",
      "Enter a corresponding number to continue: 4\n",
      "\n",
      "- - - Deleting Email - - - \n",
      "Enter the person's name the email belongs to: isaias\n",
      "Isaias's E-mail was deleted\n",
      "\n",
      "- - - - E-mail Organizer - - - -\n",
      "    [1]Look up an Email \n",
      "    [2]Add an Email\n",
      "    [3]Update an Email\n",
      "    [4]Delete an Email\n",
      "    [0]Exit\n",
      "Enter a corresponding number to continue: 1\n",
      "\n",
      "- - - Looking up E-mail - - -\n",
      "What is the person's name you're searching for?: isaias\n",
      "- - E-mail not found - -\n",
      "\n",
      "\n",
      "- - - - E-mail Organizer - - - -\n",
      "    [1]Look up an Email \n",
      "    [2]Add an Email\n",
      "    [3]Update an Email\n",
      "    [4]Delete an Email\n",
      "    [0]Exit\n",
      "Enter a corresponding number to continue: 0\n",
      "\n",
      "- - - Exiting - - - \n"
     ]
    }
   ],
   "source": [
    "#Question 6-10 - E-mail Address\n",
    "#global dictionary for storing names to emails\n",
    "emails = {'Isaias':'isaias.urena@baruchmail.cuny.edu','Yuxiao':'yuxiao.luo@baruch.cuny.edu'}\n",
    "\n",
    "#defining displayMenu function\n",
    "def displayMenu():   #number 6 in HW\n",
    "    \n",
    "    print(\"\"\"\\n- - - - E-mail Organizer - - - -\n",
    "    [1]Look up an Email \n",
    "    [2]Add an Email\n",
    "    [3]Update an Email\n",
    "    [4]Delete an Email\n",
    "    [0]Exit\"\"\")\n",
    "    #user's decision\n",
    "    choice = int(input('Enter a corresponding number to continue: '))\n",
    "    #tests for a valid input\n",
    "    while choice < 0 or choice > 4:\n",
    "        print('Invalid Input')\n",
    "        choice = int(input('Please try again: '))\n",
    "    return choice\n",
    "\n",
    "#main function\n",
    "def main():\n",
    "    choice = displayMenu()\n",
    "    #look up an email if value is 1\n",
    "    if choice == 1:\n",
    "        lookupEmail()\n",
    "        return main()\n",
    "    #add an email if value is 2\n",
    "    elif choice == 2:\n",
    "        addEmail()\n",
    "        return main()\n",
    "    #update an email if value is 3\n",
    "    elif choice == 3:\n",
    "        updateEmail()\n",
    "        return main()\n",
    "    #delete an email if value is 4\n",
    "    elif choice == 4:\n",
    "        deleteEmail()\n",
    "        return main()\n",
    "    #stop program if value is 0\n",
    "    elif choice == 0:\n",
    "        print('\\n- - - Exiting - - - ')\n",
    "        \n",
    "#look up email function\n",
    "def lookupEmail():   #number 7 in HW\n",
    "    print('\\n- - - Looking up E-mail - - -')\n",
    "    name = input(\"What is the person's name you're searching for?: \")\n",
    "    name = name.capitalize()\n",
    "    #checking if an email corresponds to the given name. if found, print\n",
    "    if name in emails:\n",
    "        print(name, '- email:', emails[name])\n",
    "\n",
    "    #if no email is found, return to main function\n",
    "    if name.capitalize() not in emails:\n",
    "        print('- - E-mail not found - -\\n')\n",
    "\n",
    "#defining function to add new email\n",
    "def addEmail():   #number 8 in HW\n",
    "    print('\\n- - - Adding New Email - - - ')\n",
    "    #user inputs new name and email\n",
    "    newname = input(\"Enter the person's name here: \")\n",
    "    newemail = input(\"Enter their e-mail here: \")\n",
    "    #properly formating name and email to organize inputs\n",
    "    newname = newname.capitalize()\n",
    "    newemail = newemail.lower()\n",
    "    #accessing the email dictionary\n",
    "    global emails\n",
    "    #adding new name and email into dictionary\n",
    "    emails[newname] = newemail\n",
    "    print('E-mail Added')\n",
    "        \n",
    "#update email function\n",
    "def updateEmail():   #number 9 in HW\n",
    "    print('- - - Updating Email - - - ')\n",
    "    #verifing the names existance in dictionary\n",
    "    name = input(\"Enter the person's name the email belongs to: \")\n",
    "    name = name.capitalize()\n",
    "    global emails\n",
    "    #if name found, replace existing email with new email\n",
    "    if name in emails:\n",
    "        newemail = input('Enter the updated E-mail here: ')\n",
    "        emails[name] = newemail\n",
    "    #if name not found, return to main function \n",
    "    if name not in emails:\n",
    "        print('Name not found.')\n",
    "\n",
    "#deleting an email function\n",
    "def deleteEmail():   #number 10 in HW\n",
    "    print('\\n- - - Deleting Email - - - ')\n",
    "    #verifing the names existance in dictionary\n",
    "    name = input(\"Enter the person's name the email belongs to: \")\n",
    "    name = name.capitalize()\n",
    "    global emails\n",
    "    \n",
    "    #if name not found, return to main function\n",
    "    if name not in emails:\n",
    "        print('Name not found')\n",
    "    #if name is found, delete name and email\n",
    "    if name in emails:\n",
    "        del emails[name]\n",
    "        print(f\"{name}'s E-mail was deleted\")\n",
    "\n",
    "#calling main function\n",
    "main()"
   ]
  }
 ],
 "metadata": {
  "kernelspec": {
   "display_name": "Python 3 (ipykernel)",
   "language": "python",
   "name": "python3"
  },
  "language_info": {
   "codemirror_mode": {
    "name": "ipython",
    "version": 3
   },
   "file_extension": ".py",
   "mimetype": "text/x-python",
   "name": "python",
   "nbconvert_exporter": "python",
   "pygments_lexer": "ipython3",
   "version": "3.10.2"
  }
 },
 "nbformat": 4,
 "nbformat_minor": 5
}
