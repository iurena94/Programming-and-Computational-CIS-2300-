{
 "cells": [
  {
   "cell_type": "code",
   "execution_count": 57,
   "id": "9e5e56e6",
   "metadata": {
    "scrolled": true
   },
   "outputs": [
    {
     "name": "stdout",
     "output_type": "stream",
     "text": [
      "Enter a number here: 1\n",
      "7.0\n",
      "49.0\n",
      "343.0\n",
      "You are now left with 343.0\n"
     ]
    }
   ],
   "source": [
    "#Question 1 \n",
    "prodNum = float(input('Enter a number here: '))\n",
    "\n",
    "while prodNum < 100:\n",
    "    prodNum *= 7\n",
    "    print(prodNum)\n",
    "print('You are now left with', prodNum)\n"
   ]
  },
  {
   "cell_type": "code",
   "execution_count": 11,
   "id": "c5076edc",
   "metadata": {},
   "outputs": [
    {
     "name": "stdout",
     "output_type": "stream",
     "text": [
      "Enter your username here: Isaias321\n",
      "Enter your password here: password\n",
      "Your password was incorrect, please try again: 123abc\n",
      "Your password was incorrect, please try again: Quadrivium\n",
      "Your password was incorrect, please try again: quadrivium\n",
      "\n",
      "You've successfully logged in \n",
      "Welcome back Isaias321!\n"
     ]
    }
   ],
   "source": [
    "#Question 2\n",
    "#User login\n",
    "user = input('Enter your username here: ')\n",
    "login = input('Enter your password here: ')\n",
    "\n",
    "#password check\n",
    "while login != 'quadrivium':\n",
    "    login = input('Your password was incorrect, please try again: ')\n",
    "\n",
    "#successful login\n",
    "print(f\"\\nYou've successfully logged in \\nWelcome back {user}!\")\n",
    "    "
   ]
  },
  {
   "cell_type": "code",
   "execution_count": 28,
   "id": "cd17f411",
   "metadata": {},
   "outputs": [
    {
     "name": "stdout",
     "output_type": "stream",
     "text": [
      "Enter amount you are looking for: 5555\n",
      "Enter amount of transaction 1:1465\n",
      "Enter amount of transaction 2:21568\n",
      "Enter amount of transaction 3:4789\n",
      "Enter amount of transaction 4:5545\n",
      "Enter amount of transaction 5:2222\n",
      "Not Found\n"
     ]
    }
   ],
   "source": [
    "#Question 3 - Fixing Code\n",
    "#starting values\n",
    "cnt=0\n",
    "match=False\n",
    "\n",
    "#Amount being looked for\n",
    "amtSrch=float(input('Enter amount you are looking for: '))\n",
    "\n",
    "#changed from 5 to 4 to get five transactions and not six\n",
    "while (not match) and cnt<=4:\n",
    "    #transaction\n",
    "    amt=float(input('Enter amount of transaction '+str(cnt+1)+':'))\n",
    "    cnt+=1\n",
    "    #Checking if True\n",
    "    if amt==amtSrch:\n",
    "        match=True\n",
    "        \n",
    "#Printing match results\n",
    "if match == True:   \n",
    "    print('Found')\n",
    "else:\n",
    "    print('Not Found')\n"
   ]
  },
  {
   "cell_type": "code",
   "execution_count": 59,
   "id": "978d1531",
   "metadata": {},
   "outputs": [
    {
     "name": "stdout",
     "output_type": "stream",
     "text": [
      "Enter the price and quantity for each item. Enter 0 anytime to checkout.\n",
      "\n",
      "Enter the quantity here:6\n",
      "Enter the price here: $2\n",
      "- - - Item added - - - \n",
      "\n",
      "Enter the quantity here:5\n",
      "Enter the price here: $1\n",
      "- - - Item added - - - \n",
      "\n",
      "Enter the quantity here:1\n",
      "Enter the price here: $3\n",
      "- - - Item added - - - \n",
      "\n",
      "Enter the quantity here:0\n",
      "\n",
      "Your subtotal is $20.00 \n",
      "Your final total after tax is $20.70\n"
     ]
    }
   ],
   "source": [
    "#Question 4\n",
    "sub = 0\n",
    "#Asking for prices and quantitiy with sentinel value 0\n",
    "print(\"Enter the price and quantity for each item. Enter 0 anytime to checkout.\")\n",
    "\n",
    "#start of loop\n",
    "while (True):\n",
    "    \n",
    "    #Asking for item quantity\n",
    "    quan = int(input('\\nEnter the quantity here:'))\n",
    "    #Checking for invalid inputs\n",
    "    while quan < 0:  \n",
    "        #repeat till valid\n",
    "        quan = int(input(\"You've entered an invalid input. Please enter quantity again: \"))\n",
    "    #If zero go to checkout\n",
    "    if quan == 0:\n",
    "        break\n",
    "    #If valid continue\n",
    "    \n",
    "    #Asking for item price        \n",
    "    price = float(input('Enter the price here: $'))\n",
    "    #Checking for invalid inputs\n",
    "    while price < 0:\n",
    "        #repeat till valid\n",
    "        price = float(input(\"You've entered an invalid input. Please enter the price again: $\")) \n",
    "    #If zero go to checkout    \n",
    "    if price == 0:\n",
    "        break\n",
    "    #If valid continue\n",
    "    \n",
    "    #calculating subtotal    \n",
    "    sub += (quan*price)\n",
    "    print(\"- - - Item added - - - \")\n",
    "    #repeat for next items\n",
    "    \n",
    "#Calculating total with sales tax    \n",
    "total = sub*1.035\n",
    "\n",
    "#final result\n",
    "print(f'\\nYour subtotal is ${sub:,.2f} \\nYour final total after tax is ${total:.2f}')"
   ]
  }
 ],
 "metadata": {
  "kernelspec": {
   "display_name": "Python 3 (ipykernel)",
   "language": "python",
   "name": "python3"
  },
  "language_info": {
   "codemirror_mode": {
    "name": "ipython",
    "version": 3
   },
   "file_extension": ".py",
   "mimetype": "text/x-python",
   "name": "python",
   "nbconvert_exporter": "python",
   "pygments_lexer": "ipython3",
   "version": "3.10.2"
  }
 },
 "nbformat": 4,
 "nbformat_minor": 5
}
