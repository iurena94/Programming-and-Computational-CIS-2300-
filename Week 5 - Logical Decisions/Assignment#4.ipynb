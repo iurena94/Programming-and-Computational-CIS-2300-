{
 "cells": [
  {
   "cell_type": "code",
   "execution_count": 26,
   "id": "e31f758b",
   "metadata": {},
   "outputs": [
    {
     "name": "stdout",
     "output_type": "stream",
     "text": [
      "Have you completed COM 1010 Speech Communication Y/N: Y\n",
      "Have you completed ENG 2150 Writing II Y/N: n\n",
      "You have failed to satisfied communication requirements.\n",
      "\n",
      "Using the following table to enter your numeric grades for each of pre business course \n",
      "A = 4,      A- = 3.7\n",
      "B+ = 3.3,   B = 3.0,   B- = 2.7\n",
      "C+ = 2.3,   C = 2.0,   C- = 1.7\n",
      "D+ = 1.3,   D = 1.0\n",
      "F = 0.0\n",
      "\n",
      "Enter your grade for ACC 2101: 1\n",
      "Enter your grade for CIS 2200: 2\n",
      "Enter your grade for ECO 1001: 3\n",
      "Enter your grade for ECO 1002: 4\n",
      "Enter your grade for ENG 2100: 4\n",
      "Enter your grade for LAW 1101: 3\n",
      "Enter your grade for one of the Calculus courses: 4\n",
      "Enter your grade for STA 2000: 2\n",
      "You've satisfied the pre-business GPA with a 2.875\n",
      "\n",
      "Enter your completed credits: 45\n",
      "Enter your overall Baruch GPA: 3\n",
      "\n",
      "You've satisfied the current completed credits and GPA requirement!\n",
      "\n",
      "Unfortunetly, you are not eligible to enter Zicklin.\n"
     ]
    }
   ],
   "source": [
    "#Zicklin eligibility\n",
    "eligible = 0 #tracking eligibility \n",
    "com1010 = input(\"Have you completed COM 1010 Speech Communication Y/N: \")\n",
    "eng2150 = input(\"Have you completed ENG 2150 Writing II Y/N: \")\n",
    "if com1010.lower() == \"y\" and eng2150.lower() == \"y\": #formated to take upper and lower case\n",
    "    print(\"You have satisfied communication requirements!\")\n",
    "    eligible += 1\n",
    "else:\n",
    "    print(\"You have failed to satisfied communication requirements.\")\n",
    "\n",
    "#business course gpa\n",
    "print(\"\\nUsing the following table to enter your numeric grades for each of pre business course \")\n",
    "print('A = 4,      A- = 3.7\\nB+ = 3.3,   B = 3.0,   B- = 2.7\\nC+ = 2.3,   C = 2.0,   C- = 1.7\\nD+ = 1.3,   D = 1.0\\nF = 0.0')\n",
    "bgpa = 0\n",
    "bgpa += float(input(\"\\nEnter your grade for ACC 2101: \"))\n",
    "bgpa += float(input(\"Enter your grade for CIS 2200: \"))\n",
    "bgpa += float(input(\"Enter your grade for ECO 1001: \"))\n",
    "bgpa += float(input(\"Enter your grade for ECO 1002: \"))\n",
    "bgpa += float(input(\"Enter your grade for ENG 2100: \"))\n",
    "bgpa += float(input(\"Enter your grade for LAW 1101: \"))\n",
    "bgpa += float(input(\"Enter your grade for one of the Calculus courses: \"))\n",
    "bgpa += float(input(\"Enter your grade for STA 2000: \"))\n",
    "bgpa /= 8\n",
    "if bgpa >= 2.25:\n",
    "    print(\"You've satisfied the pre-business GPA with a\", bgpa)\n",
    "    eligible += 1\n",
    "else:\n",
    "    print(\"You've failed to satisfy the pre-business GPA with a\", bgpa)\n",
    "\n",
    "#Credit and GPA\n",
    "credit = float(input(\"\\nEnter your completed credits: \"))\n",
    "GPA = float(input(\"Enter your overall Baruch GPA: \"))\n",
    "if credit >= 45 and GPA >= 2.25:\n",
    "    print(\"\\nYou've satisfied the current completed credits and GPA requirement!\")\n",
    "    eligible += 1\n",
    "else:\n",
    "    print(\"\\nYou've failed to satisfy the current completed credits and GPA requirement.\")\n",
    "\n",
    "# Calculating eligiblity\n",
    "if eligible == 3: \n",
    "    print(\"\\nCongratulations! You are eligible to enter Zicklin! \")\n",
    "else:\n",
    "    print(\"\\nUnfortunetly, you are not eligible to enter Zicklin.\")"
   ]
  },
  {
   "cell_type": "markdown",
   "id": "35a7994e",
   "metadata": {},
   "source": [
    "#### "
   ]
  },
  {
   "cell_type": "code",
   "execution_count": 33,
   "id": "3028026a",
   "metadata": {},
   "outputs": [
    {
     "name": "stdout",
     "output_type": "stream",
     "text": [
      "Enter your age here: 40\n",
      "Enter how long you've been a US citizen here: 40\n",
      "Your eligible to run for both House and Senate\n"
     ]
    }
   ],
   "source": [
    "#Running for Senate and House\n",
    "age = int(input(\"Enter your age here(in years): \"))\n",
    "us = int(input(\"Enter how long you've been a US citizen here(in years): \"))\n",
    "\n",
    "#if statement\n",
    "if age >= 25 and us >= 7 and age < 30 and us < 9: #range to run for House\n",
    "    print(\"Your eligible to run for House\")\n",
    "elif age >= 30 and us >= 9: #range to run for Senate/Both\n",
    "    print(\"Your eligible to run for both House and Senate\")\n",
    "else: #not elegible \n",
    "    print(\"You are not eligible to run for either House or Senate\")\n"
   ]
  },
  {
   "cell_type": "code",
   "execution_count": 53,
   "id": "79d3ef7b",
   "metadata": {
    "scrolled": false
   },
   "outputs": [
    {
     "name": "stdout",
     "output_type": "stream",
     "text": [
      "Is your first package going international or domestic?(Enter I or D): i\n",
      "How many pounds does this package weight?: 12\n",
      "Is your second package going international or domestic?(Enter I or D): d\n",
      "How many pounds does this package weight?: 5\n",
      "Your first package will be $300.00\n",
      "Your second package will be $15.00\n",
      "Your total shipping cost is $315.00\n"
     ]
    }
   ],
   "source": [
    "#Fast Freight Ship Anywhere Company\n",
    "\n",
    "#first package destination and weight\n",
    "d1 = input(\"Is your first package going international or domestic?(Enter I or D): \")\n",
    "w1 = float(input(\"How many pounds does this package weight?: \"))\n",
    "\n",
    "#second package destination and weight\n",
    "d2 = input(\"Is your second package going international or domestic?(Enter I or D): \")\n",
    "w2 = float(input(\"How many pounds does this package weight?: \"))\n",
    "\n",
    "#variables for shipping cost\n",
    "s1 = 0 #package 1\n",
    "s2 = 0 #package 2\n",
    "\n",
    "#Assigning shipping costs\n",
    "if d1.lower() == \"d\": #first package is domestic\n",
    "    if w1 <= 2:\n",
    "        s1 = 1.50\n",
    "    elif w1 <= 6:\n",
    "        s1 = 3\n",
    "    elif w1 <= 10:\n",
    "        s1 = 4\n",
    "    else:\n",
    "        s1 = 4.75\n",
    "elif d1.lower() == \"i\": #first package is international \n",
    "    if w1 <= 2:\n",
    "        s1 = 5\n",
    "    elif w1 <= 6:\n",
    "        s1 = 10\n",
    "    elif w1 <= 10:\n",
    "        s1 = 15\n",
    "    else:\n",
    "        s1 = 25\n",
    "if d2.lower() == \"d\": #second package is domestic\n",
    "    if w2 <= 2:\n",
    "        s2 = 1.50\n",
    "    elif w2 <= 6:\n",
    "        s2 = 3\n",
    "    elif w2 <= 10:\n",
    "        s2 = 4\n",
    "    else:\n",
    "        s2 = 4.75\n",
    "elif d2.lower() == \"i\": #second package is international\n",
    "    if w2 <= 2:\n",
    "        s2 = 5\n",
    "    elif w2 <= 6:\n",
    "        s2 = 10\n",
    "    elif w2 <= 10:\n",
    "        s2 = 15\n",
    "    else:\n",
    "        s2 = 25\n",
    "\n",
    "#final calculation: calculating total shipping charges\n",
    "sc1 = (w1*s1)\n",
    "sc2 = (w2*s2)\n",
    "tsc = sc1 + sc2\n",
    "print(\"Your first package's shipping cost will be \"+ \"${:,.2f}\".format(sc1))\n",
    "print(\"Your second package's shipping cost will be \"+ \"${:,.2f}\".format(sc2))\n",
    "print(\"Your total shipping cost is \" + \"${:,.2f}\".format(tsc))"
   ]
  }
 ],
 "metadata": {
  "kernelspec": {
   "display_name": "Python 3 (ipykernel)",
   "language": "python",
   "name": "python3"
  },
  "language_info": {
   "codemirror_mode": {
    "name": "ipython",
    "version": 3
   },
   "file_extension": ".py",
   "mimetype": "text/x-python",
   "name": "python",
   "nbconvert_exporter": "python",
   "pygments_lexer": "ipython3",
   "version": "3.10.2"
  }
 },
 "nbformat": 4,
 "nbformat_minor": 5
}
